{
 "cells": [
  {
<<<<<<< HEAD
   "cell_type": "code",
   "execution_count": null,
   "metadata": {},
   "outputs": [],
   "source": [
    "milista = []\n",
    "milista2 = [3,True,7,\"Hola\",[1,0],milista]\n",
    "print(milista)\n",
    "print(milista2)"
=======
   "cell_type": "markdown",
   "metadata": {},
   "source": [
    "# Listas"
>>>>>>> c3675a9bc2f7065500ed3aa732ba5875556c91e5
   ]
  },
  {
   "cell_type": "code",
<<<<<<< HEAD
   "execution_count": null,
   "metadata": {},
   "outputs": [],
   "source": [
    "print(milista2[2])\n",
    "lista2 = milista2[-2:]\n",
    "print(lista2)"
   ]
  },
  {
   "cell_type": "code",
   "execution_count": null,
   "metadata": {},
   "outputs": [],
   "source": [
    "for i in range(len(milista2)):\n",
    "    print(milista2[i])\n",
    "\n",
    "for i in milista2:\n",
    "    print(i)"
   ]
  },
  {
   "cell_type": "code",
   "execution_count": null,
   "metadata": {},
   "outputs": [],
   "source": [
    "#print(milista2)\n",
    "str2 = \"HOLA\"\n",
    "str2 = str2.lower()\n",
    "print(str2)\n"
   ]
  },
  {
   "cell_type": "code",
   "execution_count": null,
   "metadata": {},
   "outputs": [],
   "source": [
    "milista = []\n",
    "milista.append(\"Añadido\")\n",
    "milista.append(3.4)\n",
    "milista.append([4,5])\n",
    "print(milista)\n",
    "milista.append(milista2)\n",
    "print(milista)\n",
    "print(milista[3])\n",
    "print(milista[3][3].upper())\n",
    "#print(milista)\n",
    "#milista.pop()\n",
    "#print(milista)\n",
    "#milista.pop()\n",
    "#print(milista)"
   ]
  },
  {
   "cell_type": "code",
   "execution_count": 32,
=======
   "execution_count": 15,
>>>>>>> c3675a9bc2f7065500ed3aa732ba5875556c91e5
   "metadata": {},
   "outputs": [
    {
     "name": "stdout",
     "output_type": "stream",
     "text": [
<<<<<<< HEAD
      "['robot', 'perro']\n",
      "['esfera', 'color']\n",
      "[['robot', 'perro'], ['esfera', 'color']]\n",
      "esfera\n",
      "\n"
=======
      "[]\n",
      "[5, 4.3, True, 'HolaMundo']\n"
>>>>>>> c3675a9bc2f7065500ed3aa732ba5875556c91e5
     ]
    }
   ],
   "source": [
<<<<<<< HEAD
    "f = open(\"C:\\\\Users\\\\avmej\\\\OneDrive\\\\Documents\\\\GitHub\\\\TC1028\\\\AD23TC1028-411\\\\7-Listas\\\\tarjeta.txt\")\n",
    "tarjeta = []\n",
    "for linea in f:\n",
    "    linea = linea[:-1]\n",
    "    linea = linea.split(\",\")\n",
    "    tarjeta.append(linea)\n",
    "    print(linea)\n",
    "print(tarjeta)\n",
    "print(tarjeta[1][0])\n",
    "print(chr(13))"
=======
    "milista = []\n",
    "print(milista)\n",
    "milista.append(5)\n",
    "milista.append(4.3)\n",
    "milista.append(True)\n",
    "milista.append(\"HolaMundo\")\n",
    "print(milista)"
   ]
  },
  {
   "cell_type": "code",
   "execution_count": 16,
   "metadata": {},
   "outputs": [
    {
     "name": "stdout",
     "output_type": "stream",
     "text": [
      "['segunda', 'lista']\n",
      "4\n",
      "2\n"
     ]
    }
   ],
   "source": [
    "segundalista = [\"segunda\",\"lista\"]\n",
    "print(segundalista)\n",
    "print(len(milista))\n",
    "print(len(segundalista))"
   ]
  },
  {
   "cell_type": "code",
   "execution_count": 17,
   "metadata": {},
   "outputs": [
    {
     "name": "stdout",
     "output_type": "stream",
     "text": [
      "True\n",
      "5\n",
      "4.3\n",
      "True\n",
      "HolaMundo\n",
      "segunda\n",
      "lista\n"
     ]
    }
   ],
   "source": [
    "print(milista[2])\n",
    "for i in range(len(milista)):\n",
    "    print(milista[i])\n",
    "\n",
    " #acceso via ioterador\n",
    "\n",
    "for elemento in segundalista:\n",
    "    print(elemento)   "
   ]
  },
  {
   "cell_type": "code",
   "execution_count": 18,
   "metadata": {},
   "outputs": [
    {
     "name": "stdout",
     "output_type": "stream",
     "text": [
      "[5, 4.3]\n",
      "['HolaMundo', True, 4.3, 5]\n"
     ]
    }
   ],
   "source": [
    "print(milista[0:2])\n",
    "\n",
    "lista2 = milista[::-1]\n",
    "print (lista2)"
   ]
  },
  {
   "cell_type": "code",
   "execution_count": 20,
   "metadata": {},
   "outputs": [
    {
     "name": "stdout",
     "output_type": "stream",
     "text": [
      "[5, 4.3, 'cambiado']\n",
      "cambiado\n",
      "[5, 4.3]\n",
      "4.3\n"
     ]
    }
   ],
   "source": [
    "# Las lista son mutables\n",
    "\n",
    "milista[2] =\"cambiado\"\n",
    "print(milista)\n",
    "\n",
    "print(milista.pop())\n",
    "print(milista)\n",
    "elementopop = milista.pop()\n",
    "print(elementopop)"
   ]
  },
  {
   "cell_type": "code",
   "execution_count": 25,
   "metadata": {},
   "outputs": [
    {
     "name": "stdout",
     "output_type": "stream",
     "text": [
      "[5, ['segunda', 'lista'], ['segunda', 'lista'], ['segunda', 'lista'], ['segunda', 'lista'], ['segunda', 'lista']]\n",
      "['segunda', 'lista']\n",
      "segunda\n",
      "ad\n"
     ]
    }
   ],
   "source": [
    "milista.append(segundalista)\n",
    "print(milista)\n",
    "print(milista[1])\n",
    "print(milista[1][0])\n",
    "print(milista[1][0][-1:-3:-1])"
>>>>>>> c3675a9bc2f7065500ed3aa732ba5875556c91e5
   ]
  }
 ],
 "metadata": {
  "kernelspec": {
   "display_name": "Python 3",
   "language": "python",
   "name": "python3"
  },
  "language_info": {
   "codemirror_mode": {
    "name": "ipython",
    "version": 3
   },
   "file_extension": ".py",
   "mimetype": "text/x-python",
   "name": "python",
   "nbconvert_exporter": "python",
   "pygments_lexer": "ipython3",
<<<<<<< HEAD
   "version": "3.10.4"
=======
   "version": "3.11.4"
>>>>>>> c3675a9bc2f7065500ed3aa732ba5875556c91e5
  },
  "orig_nbformat": 4
 },
 "nbformat": 4,
 "nbformat_minor": 2
}
