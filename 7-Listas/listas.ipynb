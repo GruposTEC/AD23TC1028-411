{
 "cells": [
  {
   "cell_type": "code",
   "execution_count": null,
   "metadata": {},
   "outputs": [],
   "source": [
    "milista = []\n",
    "milista2 = [3,True,7,\"Hola\",[1,0],milista]\n",
    "print(milista)\n",
    "print(milista2)"
   ]
  },
  {
   "cell_type": "code",
   "execution_count": null,
   "metadata": {},
   "outputs": [],
   "source": [
    "print(milista2[2])\n",
    "lista2 = milista2[-2:]\n",
    "print(lista2)"
   ]
  },
  {
   "cell_type": "code",
   "execution_count": null,
   "metadata": {},
   "outputs": [],
   "source": [
    "for i in range(len(milista2)):\n",
    "    print(milista2[i])\n",
    "\n",
    "for i in milista2:\n",
    "    print(i)"
   ]
  },
  {
   "cell_type": "code",
   "execution_count": null,
   "metadata": {},
   "outputs": [],
   "source": [
    "#print(milista2)\n",
    "str2 = \"HOLA\"\n",
    "str2 = str2.lower()\n",
    "print(str2)\n"
   ]
  },
  {
   "cell_type": "code",
   "execution_count": null,
   "metadata": {},
   "outputs": [],
   "source": [
    "milista = []\n",
    "milista.append(\"Añadido\")\n",
    "milista.append(3.4)\n",
    "milista.append([4,5])\n",
    "print(milista)\n",
    "milista.append(milista2)\n",
    "print(milista)\n",
    "print(milista[3])\n",
    "print(milista[3][3].upper())\n",
    "#print(milista)\n",
    "#milista.pop()\n",
    "#print(milista)\n",
    "#milista.pop()\n",
    "#print(milista)"
   ]
  },
  {
   "cell_type": "code",
   "execution_count": 32,
   "metadata": {},
   "outputs": [
    {
     "name": "stdout",
     "output_type": "stream",
     "text": [
      "['robot', 'perro']\n",
      "['esfera', 'color']\n",
      "[['robot', 'perro'], ['esfera', 'color']]\n",
      "esfera\n",
      "\n"
     ]
    }
   ],
   "source": [
    "f = open(\"C:\\\\Users\\\\avmej\\\\OneDrive\\\\Documents\\\\GitHub\\\\TC1028\\\\AD23TC1028-411\\\\7-Listas\\\\tarjeta.txt\")\n",
    "tarjeta = []\n",
    "for linea in f:\n",
    "    linea = linea[:-1]\n",
    "    linea = linea.split(\",\")\n",
    "    tarjeta.append(linea)\n",
    "    print(linea)\n",
    "print(tarjeta)\n",
    "print(tarjeta[1][0])\n",
    "print(chr(13))"
   ]
  }
 ],
 "metadata": {
  "kernelspec": {
   "display_name": "Python 3",
   "language": "python",
   "name": "python3"
  },
  "language_info": {
   "codemirror_mode": {
    "name": "ipython",
    "version": 3
   },
   "file_extension": ".py",
   "mimetype": "text/x-python",
   "name": "python",
   "nbconvert_exporter": "python",
   "pygments_lexer": "ipython3",
   "version": "3.10.4"
  },
  "orig_nbformat": 4
 },
 "nbformat": 4,
 "nbformat_minor": 2
}
