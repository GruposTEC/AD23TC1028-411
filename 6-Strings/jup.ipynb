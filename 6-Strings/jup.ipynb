{
 "cells": [
  {
   "cell_type": "code",
   "execution_count": 6,
   "metadata": {},
   "outputs": [
    {
     "name": "stdout",
     "output_type": "stream",
     "text": [
      "7\n",
      "e\n",
      "j\n"
     ]
    }
   ],
   "source": [
    "pxt=\"mensaje\"\n",
    "print (len (pxt))\n",
    "print (pxt [-6])\n",
    "print (pxt [5])"
   ]
  },
  {
   "cell_type": "code",
   "execution_count": 7,
   "metadata": {},
   "outputs": [
    {
     "name": "stdout",
     "output_type": "stream",
     "text": [
      "m\n",
      "e\n",
      "n\n",
      "s\n",
      "a\n",
      "j\n",
      "e\n"
     ]
    }
   ],
   "source": [
    "for i in range (len (pxt)):\n",
    "    print (pxt [i])"
   ]
  },
  {
   "cell_type": "code",
   "execution_count": 9,
   "metadata": {},
   "outputs": [
    {
     "ename": "TypeError",
     "evalue": "'str' object does not support item assignment",
     "output_type": "error",
     "traceback": [
      "\u001b[0;31m---------------------------------------------------------------------------\u001b[0m",
      "\u001b[0;31mTypeError\u001b[0m                                 Traceback (most recent call last)",
      "\u001b[1;32m/workspaces/AD23TC1028-411/6-Strings/jup.ipynb Cell 3\u001b[0m line \u001b[0;36m1\n\u001b[0;32m----> <a href='vscode-notebook-cell://codespaces%2Bopulent-computing-machine-pw94p56pwqg369gj/workspaces/AD23TC1028-411/6-Strings/jup.ipynb#W2sdnNjb2RlLXJlbW90ZQ%3D%3D?line=0'>1</a>\u001b[0m pxt [\u001b[39m2\u001b[39;49m]\u001b[39m=\u001b[39m\u001b[39m\"\u001b[39m\u001b[39mñ\u001b[39m\u001b[39m\"\u001b[39m\n\u001b[1;32m      <a href='vscode-notebook-cell://codespaces%2Bopulent-computing-machine-pw94p56pwqg369gj/workspaces/AD23TC1028-411/6-Strings/jup.ipynb#W2sdnNjb2RlLXJlbW90ZQ%3D%3D?line=1'>2</a>\u001b[0m \u001b[39mfor\u001b[39;00m letra \u001b[39min\u001b[39;00m pxt:\n\u001b[1;32m      <a href='vscode-notebook-cell://codespaces%2Bopulent-computing-machine-pw94p56pwqg369gj/workspaces/AD23TC1028-411/6-Strings/jup.ipynb#W2sdnNjb2RlLXJlbW90ZQ%3D%3D?line=2'>3</a>\u001b[0m     \u001b[39mprint\u001b[39m (letra)\n",
      "\u001b[0;31mTypeError\u001b[0m: 'str' object does not support item assignment"
     ]
    }
   ],
   "source": [
    "#Son inmutables!\n",
    "pxt [2]=\"ñ\"\n",
    "for letra in pxt:\n",
    "    print (letra)"
   ]
  },
  {
   "cell_type": "code",
   "execution_count": 15,
   "metadata": {},
   "outputs": [
    {
     "name": "stdout",
     "output_type": "stream",
     "text": [
      "men\n",
      "mna\n",
      "mens\n",
      "saje\n",
      "ejasnem\n"
     ]
    }
   ],
   "source": [
    "#slicing:partir los strings, tienen tres valores, (start,stop,step)\n",
    "print (pxt[0:3])\n",
    "print (pxt [0:5:2])\n",
    "#Hasta el _\n",
    "print (pxt [:4])\n",
    "#Desde el _\n",
    "print (pxt [3:])\n",
    "#Al revés\n",
    "print (pxt [::-1])"
   ]
  },
  {
   "cell_type": "code",
   "execution_count": 19,
   "metadata": {},
   "outputs": [
    {
     "name": "stdout",
     "output_type": "stream",
     "text": [
      "ej\n"
     ]
    }
   ],
   "source": [
    "#Se asume que es positivo\n",
    "pxt2=pxt[-1:-3:-1]\n",
    "print (pxt2)"
   ]
  },
  {
   "cell_type": "code",
   "execution_count": 24,
   "metadata": {},
   "outputs": [
    {
     "name": "stdout",
     "output_type": "stream",
     "text": [
      "Mensaje\n",
      "MENSAJE\n",
      "109\n",
      "z\n",
      "False\n"
     ]
    }
   ],
   "source": [
    "#Mayuscúlas empieza\n",
    "print (pxt.capitalize())\n",
    "#Mayuscúlas todo\n",
    "print (pxt.upper())\n",
    "#Convertir la m a decimal en ASCII\n",
    "print (ord(pxt[0]))\n",
    "#Convertir un numero de ASCII a caracter\n",
    "print (chr(122))\n",
    "#Es dígito?\n",
    "print (pxt.isdigit())"
   ]
  }
 ],
 "metadata": {
  "kernelspec": {
   "display_name": "Python 3",
   "language": "python",
   "name": "python3"
  },
  "language_info": {
   "codemirror_mode": {
    "name": "ipython",
    "version": 3
   },
   "file_extension": ".py",
   "mimetype": "text/x-python",
   "name": "python",
   "nbconvert_exporter": "python",
   "pygments_lexer": "ipython3",
   "version": "3.11.4"
  },
  "orig_nbformat": 4
 },
 "nbformat": 4,
 "nbformat_minor": 2
}
