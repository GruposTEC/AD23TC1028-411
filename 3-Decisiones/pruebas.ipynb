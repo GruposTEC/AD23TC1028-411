{
 "cells": [
  {
   "cell_type": "markdown",
   "metadata": {},
   "source": [
    "# Ejemplo de decisiones"
   ]
  },
  {
   "cell_type": "code",
   "execution_count": 5,
   "metadata": {},
   "outputs": [
    {
     "name": "stdout",
     "output_type": "stream",
     "text": [
      "Numero dos fue mayor\n"
     ]
    }
   ],
   "source": [
    "numero = 5\n",
    "numero2 = 19\n",
    "\n",
    "if numero > numero2:\n",
    "    print(\"El numero fue mayor a numero 2\")\n",
    "else:\n",
    "    print(\"Numero dos fue mayor\")"
   ]
  },
  {
   "cell_type": "code",
   "execution_count": 6,
   "metadata": {},
   "outputs": [
    {
     "name": "stdout",
     "output_type": "stream",
     "text": [
      " n2 mayor a n1\n"
     ]
    }
   ],
   "source": [
    "if numero > numero2:\n",
    "    print(\"n1 mayor a n2\")\n",
    "elif numero2 > numero:\n",
    "    print (\" n2 mayor a n1\")\n",
    "else:\n",
    "    print(\"numeros iguales\")"
   ]
  },
  {
   "cell_type": "markdown",
   "metadata": {},
   "source": [
    "##Condicionales con multiples valores booleanos"
   ]
  },
  {
   "cell_type": "code",
   "execution_count": 9,
   "metadata": {},
   "outputs": [
    {
     "name": "stdout",
     "output_type": "stream",
     "text": [
      "numero es : 5\n",
      "numero2 es : 19\n",
      "ambos numeros son 0 y 19\n",
      "Segunda condicion falsa\n"
     ]
    }
   ],
   "source": [
    "print(f'numero es : {numero}')\n",
    "print(f'numero2 es : {numero2}')\n",
    "if numero == 5 and numero2 == 19:\n",
    "    print(\"ambos numeros son 0 y 19\")\n",
    "    if(numero > 0 and numero2 < 10):\n",
    "        print(\"numero menor a cero y numero2  menor a 10\")\n",
    "    else:\n",
    "        print(\"Segunda condicion falsa\")"
   ]
  }
 ],
 "metadata": {
  "kernelspec": {
   "display_name": "Python 3",
   "language": "python",
   "name": "python3"
  },
  "language_info": {
   "codemirror_mode": {
    "name": "ipython",
    "version": 3
   },
   "file_extension": ".py",
   "mimetype": "text/x-python",
   "name": "python",
   "nbconvert_exporter": "python",
   "pygments_lexer": "ipython3",
   "version": "3.11.4"
  },
  "orig_nbformat": 4
 },
 "nbformat": 4,
 "nbformat_minor": 2
}
